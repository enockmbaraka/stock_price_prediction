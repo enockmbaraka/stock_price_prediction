{
 "cells": [
  {
   "cell_type": "code",
   "execution_count": 27,
   "id": "ca4d6377-4ce1-44b5-8b3a-ce234159b1a6",
   "metadata": {},
   "outputs": [],
   "source": [
    "import numpy as np\n",
    "import tensorflow as tf\n",
    "from tensorflow.keras.models import Sequential, load_model\n",
    "from tensorflow.keras.layers import Dense, SimpleRNN, Dropout\n",
    "from sklearn.preprocessing import MinMaxScaler\n",
    "import joblib  # For saving the scaler\n",
    "import os\n",
    "import pandas as pd"
   ]
  },
  {
   "cell_type": "code",
   "execution_count": 33,
   "id": "12c500fe-5bef-47db-8096-2a069a029d09",
   "metadata": {},
   "outputs": [
    {
     "name": "stdout",
     "output_type": "stream",
     "text": [
      "Scaled stock price data (Close option) and scalers saved to scaled_stock_data_close_option.pkl\n"
     ]
    }
   ],
   "source": [
    "import numpy as np\n",
    "import pickle\n",
    "from sklearn.preprocessing import MinMaxScaler\n",
    "\n",
    "def scale_and_save_data(X_train, y_train, X_val, y_val, X_test, y_test, output_file):\n",
    "    \"\"\"\n",
    "    Scales the given stock price data (for Close option) using MinMaxScaler and saves the scaled data and scalers to a .pkl file.\n",
    "\n",
    "    Parameters:\n",
    "        X_train (numpy.ndarray): Training features.\n",
    "        y_train (numpy.ndarray): Training labels (Close prices).\n",
    "        X_val (numpy.ndarray): Validation features.\n",
    "        y_val (numpy.ndarray): Validation labels (Close prices).\n",
    "        X_test (numpy.ndarray): Testing features.\n",
    "        y_test (numpy.ndarray): Testing labels (Close prices).\n",
    "        output_file (str): Path to the .pkl file to save the data and scalers.\n",
    "    \"\"\"\n",
    "    # Initialize scalers\n",
    "    scaler_X = MinMaxScaler(feature_range=(0, 1))\n",
    "    scaler_y = MinMaxScaler(feature_range=(0, 1))\n",
    "\n",
    "    # Reshape y data to 2D for scaling (Close prices)\n",
    "    y_train = y_train.reshape(-1, 1)\n",
    "    y_val = y_val.reshape(-1, 1)\n",
    "    y_test = y_test.reshape(-1, 1)\n",
    "\n",
    "    # Fit and transform the scalers on the respective datasets\n",
    "    X_train_scaled = scaler_X.fit_transform(X_train.reshape(-1, X_train.shape[-1])).reshape(X_train.shape)\n",
    "    X_val_scaled = scaler_X.transform(X_val.reshape(-1, X_val.shape[-1])).reshape(X_val.shape)\n",
    "    X_test_scaled = scaler_X.transform(X_test.reshape(-1, X_test.shape[-1])).reshape(X_test.shape)\n",
    "\n",
    "    y_train_scaled = scaler_y.fit_transform(y_train)\n",
    "    y_val_scaled = scaler_y.transform(y_val)\n",
    "    y_test_scaled = scaler_y.transform(y_test)\n",
    "\n",
    "    # Save scaled data and scalers to a .pkl file\n",
    "    data_to_save = {\n",
    "        \"X_train\": X_train_scaled,\n",
    "        \"y_train\": y_train_scaled,\n",
    "        \"X_val\": X_val_scaled,\n",
    "        \"y_val\": y_val_scaled,\n",
    "        \"X_test\": X_test_scaled,\n",
    "        \"y_test\": y_test_scaled,\n",
    "        \"scaler_X\": scaler_X,\n",
    "        \"scaler_y\": scaler_y,\n",
    "    }\n",
    "\n",
    "    with open(output_file, 'wb') as f:\n",
    "        pickle.dump(data_to_save, f)\n",
    "\n",
    "    print(f\"Scaled stock price data (Close option) and scalers saved to {output_file}\")\n",
    "\n",
    "# Example usage\n",
    "X_train, y_train, X_val, y_val, X_test, y_test = preprocess_stock_data(\n",
    "    data_path_google, date_column='Date', close_column='Close', time_steps=60\n",
    ")\n",
    "\n",
    "output_file = \"scaled_stock_data_close_option.pkl\"\n",
    "scale_and_save_data(X_train, y_train, X_val, y_val, X_test, y_test, output_file)\n",
    "\n"
   ]
  },
  {
   "cell_type": "code",
   "execution_count": 34,
   "id": "f201c62b-2375-4d75-ae4c-fea35106a38d",
   "metadata": {},
   "outputs": [],
   "source": [
    "class StockPricePredictor_Google:\n",
    "    def __init__(self, input_shape, learning_rate=0.0007971184552975506, num_layers=2, units=256):\n",
    "        self.input_shape = input_shape\n",
    "        self.learning_rate = learning_rate\n",
    "        self.num_layers = num_layers\n",
    "        self.units = units\n",
    "        self.model = self._build_model()\n",
    "\n",
    "    def _build_model(self):\n",
    "        model = Sequential()\n",
    "        for i in range(self.num_layers):\n",
    "            # Add RNN layers, making the last layer return sequences only if it's not the final RNN\n",
    "            return_sequences = i < (self.num_layers - 1)\n",
    "            model.add(SimpleRNN(self.units, activation='relu', return_sequences=return_sequences, input_shape=self.input_shape))\n",
    "            model.add(Dropout(0.2))  # Regularization\n",
    "\n",
    "        # Output layer for regression (single output: close value)\n",
    "        model.add(Dense(1))\n",
    "\n",
    "    # Compile the model with explicit loss and metric functions\n",
    "        model.compile(\n",
    "            optimizer=tf.keras.optimizers.Adam(learning_rate=self.learning_rate),\n",
    "            loss=tf.keras.losses.MeanSquaredError(),  # Explicitly use the TensorFlow implementation\n",
    "            metrics=[tf.keras.metrics.MeanAbsoluteError()]  # Use TensorFlow's metric function\n",
    "        )\n",
    "        return model\n",
    "\n",
    "    def train(self, X_train, y_train, batch_size=16, epochs=50, validation_data=None):\n",
    "        history = self.model.fit(X_train, y_train, \n",
    "                                 batch_size=batch_size, \n",
    "                                 epochs=epochs, \n",
    "                                 validation_data=validation_data,\n",
    "                                 verbose=2)\n",
    "        return history\n",
    "\n",
    "    def predict(self, X):\n",
    "        return self.model.predict(X)\n",
    "\n",
    "    def save(self, model_path, scaler_path, scaler):\n",
    "        # Save the model\n",
    "        self.model.save(model_path)\n",
    "        print(f\"Model saved to {model_path}\")\n",
    "\n",
    "        # Save the scaler\n",
    "        joblib.dump(scaler, scaler_path)\n",
    "        print(f\"Scaler saved to {scaler_path}\")\n",
    "\n",
    "    @staticmethod\n",
    "    def load(model_path, scaler_path):\n",
    "        # Load the model\n",
    "        model = load_model(model_path)\n",
    "        print(f\"Model loaded from {model_path}\")\n",
    "\n",
    "        # Load the scaler\n",
    "        scaler = joblib.load(scaler_path)\n",
    "        print(f\"Scaler loaded from {scaler_path}\")\n",
    "\n",
    "        return model, scaler\n",
    "\n",
    "\n"
   ]
  },
  {
   "cell_type": "code",
   "execution_count": 35,
   "id": "742db5ad-91a9-463a-8fe2-246b2e040d8e",
   "metadata": {},
   "outputs": [
    {
     "name": "stdout",
     "output_type": "stream",
     "text": [
      "Scaled stock price data (Close option) and scalers saved to scaled_stock_data_close_option.pkl\n"
     ]
    },
    {
     "ename": "TypeError",
     "evalue": "cannot unpack non-iterable NoneType object",
     "output_type": "error",
     "traceback": [
      "\u001b[1;31m---------------------------------------------------------------------------\u001b[0m",
      "\u001b[1;31mTypeError\u001b[0m                                 Traceback (most recent call last)",
      "Cell \u001b[1;32mIn[35], line 3\u001b[0m\n\u001b[0;32m      1\u001b[0m data_path_google \u001b[38;5;241m=\u001b[39m \u001b[38;5;124m\"\u001b[39m\u001b[38;5;124minputs/google_stock_cleaned.csv\u001b[39m\u001b[38;5;124m\"\u001b[39m\n\u001b[1;32m----> 3\u001b[0m X_train, y_train, X_val, y_val, X_test, y_test \u001b[38;5;241m=\u001b[39m scale_and_save_data(X_train, y_train, X_val, y_val, X_test, y_test, output_file)\n",
      "\u001b[1;31mTypeError\u001b[0m: cannot unpack non-iterable NoneType object"
     ]
    }
   ],
   "source": [
    "data_path_google = \"inputs/google_stock_cleaned.csv\"\n",
    "\n",
    "X_train, y_train, X_val, y_val, X_test, y_test = scale_and_save_data(X_train, y_train, X_val, y_val, X_test, y_test, output_file)"
   ]
  },
  {
   "cell_type": "code",
   "execution_count": 32,
   "id": "a4949e12-3444-4f57-9ace-20cf5112d125",
   "metadata": {},
   "outputs": [
    {
     "name": "stdout",
     "output_type": "stream",
     "text": [
      "Epoch 1/20\n"
     ]
    },
    {
     "name": "stderr",
     "output_type": "stream",
     "text": [
      "D:\\stock_price_prediction\\venv\\Lib\\site-packages\\keras\\src\\layers\\rnn\\rnn.py:200: UserWarning: Do not pass an `input_shape`/`input_dim` argument to a layer. When using Sequential models, prefer using an `Input(shape)` object as the first layer in the model instead.\n",
      "  super().__init__(**kwargs)\n"
     ]
    },
    {
     "name": "stdout",
     "output_type": "stream",
     "text": [
      "50/50 - 4s - 80ms/step - loss: 0.0960 - mean_absolute_error: 0.2612 - val_loss: 0.1009 - val_mean_absolute_error: 0.2749\n",
      "Epoch 2/20\n",
      "50/50 - 1s - 20ms/step - loss: 0.0895 - mean_absolute_error: 0.2522 - val_loss: 0.0943 - val_mean_absolute_error: 0.2671\n",
      "Epoch 3/20\n",
      "50/50 - 1s - 20ms/step - loss: 0.0861 - mean_absolute_error: 0.2494 - val_loss: 0.1064 - val_mean_absolute_error: 0.2773\n",
      "Epoch 4/20\n",
      "50/50 - 1s - 20ms/step - loss: 0.0853 - mean_absolute_error: 0.2471 - val_loss: 0.0934 - val_mean_absolute_error: 0.2680\n",
      "Epoch 5/20\n",
      "50/50 - 1s - 20ms/step - loss: 0.0844 - mean_absolute_error: 0.2475 - val_loss: 0.0922 - val_mean_absolute_error: 0.2661\n",
      "Epoch 6/20\n",
      "50/50 - 1s - 21ms/step - loss: 0.0819 - mean_absolute_error: 0.2444 - val_loss: 0.0925 - val_mean_absolute_error: 0.2660\n",
      "Epoch 7/20\n",
      "50/50 - 1s - 20ms/step - loss: 0.0827 - mean_absolute_error: 0.2458 - val_loss: 0.0933 - val_mean_absolute_error: 0.2660\n",
      "Epoch 8/20\n",
      "50/50 - 1s - 20ms/step - loss: 0.0805 - mean_absolute_error: 0.2402 - val_loss: 0.1069 - val_mean_absolute_error: 0.2789\n",
      "Epoch 9/20\n",
      "50/50 - 1s - 20ms/step - loss: 0.0830 - mean_absolute_error: 0.2442 - val_loss: 0.1044 - val_mean_absolute_error: 0.2805\n",
      "Epoch 10/20\n",
      "50/50 - 1s - 20ms/step - loss: 0.0804 - mean_absolute_error: 0.2420 - val_loss: 0.0966 - val_mean_absolute_error: 0.2700\n",
      "Epoch 11/20\n",
      "50/50 - 1s - 20ms/step - loss: 0.0808 - mean_absolute_error: 0.2417 - val_loss: 0.0931 - val_mean_absolute_error: 0.2661\n",
      "Epoch 12/20\n",
      "50/50 - 1s - 20ms/step - loss: 0.0800 - mean_absolute_error: 0.2407 - val_loss: 0.0940 - val_mean_absolute_error: 0.2665\n",
      "Epoch 13/20\n",
      "50/50 - 1s - 20ms/step - loss: 0.0773 - mean_absolute_error: 0.2343 - val_loss: 0.0966 - val_mean_absolute_error: 0.2726\n",
      "Epoch 14/20\n",
      "50/50 - 1s - 20ms/step - loss: 0.0783 - mean_absolute_error: 0.2361 - val_loss: 0.1063 - val_mean_absolute_error: 0.2793\n",
      "Epoch 15/20\n",
      "50/50 - 1s - 20ms/step - loss: 0.0762 - mean_absolute_error: 0.2331 - val_loss: 0.0981 - val_mean_absolute_error: 0.2745\n",
      "Epoch 16/20\n",
      "50/50 - 1s - 23ms/step - loss: 0.0719 - mean_absolute_error: 0.2265 - val_loss: 0.0946 - val_mean_absolute_error: 0.2681\n",
      "Epoch 17/20\n",
      "50/50 - 1s - 20ms/step - loss: 0.0711 - mean_absolute_error: 0.2245 - val_loss: 0.0970 - val_mean_absolute_error: 0.2685\n",
      "Epoch 18/20\n",
      "50/50 - 1s - 20ms/step - loss: 0.0689 - mean_absolute_error: 0.2203 - val_loss: 0.0953 - val_mean_absolute_error: 0.2671\n",
      "Epoch 19/20\n",
      "50/50 - 1s - 20ms/step - loss: 0.0668 - mean_absolute_error: 0.2172 - val_loss: 0.1042 - val_mean_absolute_error: 0.2773\n",
      "Epoch 20/20\n",
      "50/50 - 1s - 20ms/step - loss: 0.0637 - mean_absolute_error: 0.2105 - val_loss: 0.1122 - val_mean_absolute_error: 0.2841\n"
     ]
    },
    {
     "name": "stderr",
     "output_type": "stream",
     "text": [
      "WARNING:absl:You are saving your model as an HDF5 file via `model.save()` or `keras.saving.save_model(model)`. This file format is considered legacy. We recommend using instead the native Keras format, e.g. `model.save('my_model.keras')` or `keras.saving.save_model(model, 'my_model.keras')`. \n",
      "WARNING:absl:Compiled the loaded model, but the compiled metrics have yet to be built. `model.compile_metrics` will be empty until you train or evaluate the model.\n"
     ]
    },
    {
     "name": "stdout",
     "output_type": "stream",
     "text": [
      "Model saved to stock_price_rnn_model.h5\n",
      "Scaler saved to stock_price_scaler.pkl\n",
      "Model loaded from stock_price_rnn_model.h5\n",
      "Scaler loaded from stock_price_scaler.pkl\n",
      "\u001b[1m7/7\u001b[0m \u001b[32m━━━━━━━━━━━━━━━━━━━━\u001b[0m\u001b[37m\u001b[0m \u001b[1m1s\u001b[0m 47ms/step\n",
      "Predictions (rescaled): [[0.5850826 ]\n",
      " [0.56948256]\n",
      " [0.538114  ]\n",
      " [0.49103233]\n",
      " [0.3285896 ]]\n"
     ]
    }
   ],
   "source": [
    "# Sample Usage\n",
    "if __name__ == \"__main__\":\n",
    "   \n",
    "    # Scale data\n",
    "    scaler = MinMaxScaler()\n",
    "    y_train_scaled = scaler.fit_transform(y_train.reshape(-1, 1)).flatten()\n",
    "    y_val_scaled = scaler.transform(y_val.reshape(-1, 1)).flatten()\n",
    "\n",
    "    # Initialize and train the predictor\n",
    "    predictor = StockPricePredictor_Google(input_shape=(X_train.shape[1], X_train.shape[2]))\n",
    "    history = predictor.train(X_train, y_train_scaled, batch_size=16, epochs=20, validation_data=(X_val, y_val_scaled))\n",
    "\n",
    "    # Save model and scaler\n",
    "    model_path = \"stock_price_rnn_model.h5\"\n",
    "    scaler_path = \"stock_price_scaler.pkl\"\n",
    "    predictor.save(model_path, scaler_path, scaler)\n",
    "\n",
    "    # Load model and scaler for inference\n",
    "    loaded_model, loaded_scaler = StockPricePredictor.load(model_path, scaler_path)\n",
    "    predictions = loaded_model.predict(X_val)\n",
    "    predictions_rescaled = loaded_scaler.inverse_transform(predictions)\n",
    "\n",
    "    print(\"Predictions (rescaled):\", predictions_rescaled[:5])"
   ]
  },
  {
   "cell_type": "code",
   "execution_count": null,
   "id": "1ebcbcd5-6693-4f35-bc16-ac8e4f6152db",
   "metadata": {},
   "outputs": [],
   "source": []
  }
 ],
 "metadata": {
  "kernelspec": {
   "display_name": "Python 3 (ipykernel)",
   "language": "python",
   "name": "python3"
  },
  "language_info": {
   "codemirror_mode": {
    "name": "ipython",
    "version": 3
   },
   "file_extension": ".py",
   "mimetype": "text/x-python",
   "name": "python",
   "nbconvert_exporter": "python",
   "pygments_lexer": "ipython3",
   "version": "3.11.9"
  }
 },
 "nbformat": 4,
 "nbformat_minor": 5
}
